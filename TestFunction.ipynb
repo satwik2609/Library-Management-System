{
 "cells": [
  {
   "cell_type": "code",
   "execution_count": 1,
   "metadata": {},
   "outputs": [
    {
     "name": "stdout",
     "output_type": "stream",
     "text": [
      "Rohan Sharma Mumbai EMP101\n"
     ]
    }
   ],
   "source": [
    "from User import Member\n",
    "from User import Librarian\n",
    "\n",
    "lbr = Librarian(\"Rohan Sharma\", \"Mumbai\", 30, \"918334569786\", \"EMP101\")\n",
    "print(lbr)"
   ]
  },
  {
   "cell_type": "code",
   "execution_count": 2,
   "metadata": {},
   "outputs": [
    {
     "name": "stdout",
     "output_type": "stream",
     "text": [
      "Book John Adams has been added successfully!\n"
     ]
    }
   ],
   "source": [
    "lbr.addBook('John Adams','David McCullough', \"Biography\", '2002')"
   ]
  },
  {
   "cell_type": "code",
   "execution_count": 3,
   "metadata": {},
   "outputs": [
    {
     "name": "stdout",
     "output_type": "stream",
     "text": [
      "John Adams by David McCullough\n",
      "Total book titles 1\n",
      "Total Books 0\n"
     ]
    }
   ],
   "source": [
    "lbr.viewBooks()"
   ]
  },
  {
   "cell_type": "code",
   "execution_count": 4,
   "metadata": {},
   "outputs": [
    {
     "name": "stdout",
     "output_type": "stream",
     "text": [
      "Book Item 456789 has been added successfully!\n",
      "Book Item 235678 has been added successfully!\n"
     ]
    }
   ],
   "source": [
    "lbr.addBookItem(\"John Adams\", \"456789\", \"A1B3\")\n",
    "lbr.addBookItem(\"John Adams\", \"235678\", \"A1B4\")"
   ]
  },
  {
   "cell_type": "code",
   "execution_count": 5,
   "metadata": {},
   "outputs": [
    {
     "name": "stdout",
     "output_type": "stream",
     "text": [
      "John Adams by David McCullough\n",
      "Isbn: 456789, Rack: A1B3\n",
      "Isbn: 235678, Rack: A1B4\n",
      "Total book titles 1\n",
      "Total Books 2\n"
     ]
    }
   ],
   "source": [
    "lbr.viewBooks()"
   ]
  },
  {
   "cell_type": "code",
   "execution_count": 6,
   "metadata": {},
   "outputs": [
    {
     "name": "stdout",
     "output_type": "stream",
     "text": [
      "Book War and Peace has been added successfully!\n",
      "Book Item 237643 has been added successfully!\n",
      "Book Item 289364 has been added successfully!\n",
      "Book Every Breath has been added successfully!\n",
      "Book Item 923864 has been added successfully!\n",
      "Book Item 237647 has been added successfully!\n"
     ]
    }
   ],
   "source": [
    "lbr.addBook('War and Peace','Leo Tolstoy', \"Fiction\", \"1869\")\n",
    "lbr.addBookItem(\"War and Peace\", \"237643\", \"B2C1\")\n",
    "lbr.addBookItem(\"War and Peace\", \"289364\", \"B2C2\")\n",
    "lbr.addBook('Every Breath','Nicholas Sparks', \"Romance\", \"2018\")\n",
    "lbr.addBookItem(\"Every Breath\", \"923864\", \"D3E1\")\n",
    "lbr.addBookItem(\"Every Breath\", \"237647\", \"D3E2\")"
   ]
  },
  {
   "cell_type": "code",
   "execution_count": 7,
   "metadata": {},
   "outputs": [
    {
     "name": "stdout",
     "output_type": "stream",
     "text": [
      "John Adams by David McCullough\n",
      "Isbn: 456789, Rack: A1B3\n",
      "Isbn: 235678, Rack: A1B4\n",
      "War and Peace by Leo Tolstoy\n",
      "Isbn: 237643, Rack: B2C1\n",
      "Isbn: 289364, Rack: B2C2\n",
      "Every Breath by Nicholas Sparks\n",
      "Isbn: 923864, Rack: D3E1\n",
      "Isbn: 237647, Rack: D3E2\n",
      "Total book titles 3\n",
      "Total Books 6\n"
     ]
    }
   ],
   "source": [
    "lbr.viewBooks()"
   ]
  },
  {
   "cell_type": "code",
   "execution_count": 8,
   "metadata": {},
   "outputs": [
    {
     "name": "stdout",
     "output_type": "stream",
     "text": [
      "Book Item 237643 has been removed from the catalog!\n"
     ]
    }
   ],
   "source": [
    "lbr.removeBookItem(\"237643\")"
   ]
  },
  {
   "cell_type": "code",
   "execution_count": 9,
   "metadata": {},
   "outputs": [
    {
     "name": "stdout",
     "output_type": "stream",
     "text": [
      "John Adams by David McCullough\n",
      "Isbn: 456789, Rack: A1B3\n",
      "Isbn: 235678, Rack: A1B4\n",
      "War and Peace by Leo Tolstoy\n",
      "Isbn: 289364, Rack: B2C2\n",
      "Every Breath by Nicholas Sparks\n",
      "Isbn: 923864, Rack: D3E1\n",
      "Isbn: 237647, Rack: D3E2\n",
      "Total book titles 3\n",
      "Total Books 5\n"
     ]
    }
   ],
   "source": [
    "lbr.viewBooks()"
   ]
  },
  {
   "cell_type": "code",
   "execution_count": 10,
   "metadata": {},
   "outputs": [
    {
     "name": "stdout",
     "output_type": "stream",
     "text": [
      "Book War and Peace has been removed from the catalog!\n",
      "John Adams by David McCullough\n",
      "Isbn: 456789, Rack: A1B3\n",
      "Isbn: 235678, Rack: A1B4\n",
      "Every Breath by Nicholas Sparks\n",
      "Isbn: 923864, Rack: D3E1\n",
      "Isbn: 237647, Rack: D3E2\n",
      "Total book titles 2\n",
      "Total Books 4\n"
     ]
    }
   ],
   "source": [
    "lbr.removeBook(\"War and Peace\")\n",
    "lbr.viewBooks()"
   ]
  },
  {
   "cell_type": "code",
   "execution_count": 11,
   "metadata": {},
   "outputs": [
    {
     "name": "stdout",
     "output_type": "stream",
     "text": [
      "Welcome to Library Aakash!\n",
      "Welcome to Library Abhishek!\n"
     ]
    }
   ],
   "source": [
    "m1 = Member(\"Aakash\", \"Mumbai\", 21, \"678323764322\", \"STD4321\")\n",
    "m2 = Member(\"Abhishek\", \"Mumbai\", 22, \"384547892984\", \"STD8765\")"
   ]
  },
  {
   "cell_type": "code",
   "execution_count": 12,
   "metadata": {},
   "outputs": [
    {
     "name": "stdout",
     "output_type": "stream",
     "text": [
      "John Adams by David McCullough\n",
      "Isbn: 456789, Rack: A1B3\n",
      "Isbn: 235678, Rack: A1B4\n",
      "Every Breath by Nicholas Sparks\n",
      "Isbn: 923864, Rack: D3E1\n",
      "Isbn: 237647, Rack: D3E2\n",
      "Total book titles 2\n",
      "Total Books 4\n"
     ]
    }
   ],
   "source": [
    "m1.viewBooks()"
   ]
  },
  {
   "cell_type": "code",
   "execution_count": 13,
   "metadata": {},
   "outputs": [],
   "source": [
    "# m1.searchByTitle(\"Every Breath\")\n",
    "# m1.searchByTitle(\"The Notebook\")\n",
    "# m1.searchByAuthor(\"David McCullough\")\n",
    "# m1.searchByAuthor(\"Chetan Bhagat\")"
   ]
  },
  {
   "cell_type": "code",
   "execution_count": 14,
   "metadata": {},
   "outputs": [
    {
     "name": "stdout",
     "output_type": "stream",
     "text": [
      "For how many days would you like to issue this book? 5\n",
      "Book issued successfully!\n",
      "Take your copy 235678 from rack A1B4\n"
     ]
    }
   ],
   "source": [
    "m1.IssueBook(\"John Adams\")"
   ]
  },
  {
   "cell_type": "code",
   "execution_count": 15,
   "metadata": {},
   "outputs": [
    {
     "name": "stdout",
     "output_type": "stream",
     "text": [
      "For how many days would you like to issue this book? 7\n",
      "Book issued successfully!\n",
      "Take your copy 237647 from rack D3E2\n"
     ]
    }
   ],
   "source": [
    "m2.IssueBook(\"Every Breath\")"
   ]
  },
  {
   "cell_type": "code",
   "execution_count": 16,
   "metadata": {},
   "outputs": [
    {
     "name": "stdout",
     "output_type": "stream",
     "text": [
      "John Adams by David McCullough\n",
      "Isbn: 456789, Rack: A1B3\n",
      "Every Breath by Nicholas Sparks\n",
      "Isbn: 923864, Rack: D3E1\n",
      "Total book titles 2\n",
      "Total Books 2\n"
     ]
    }
   ],
   "source": [
    "m1.viewBooks()"
   ]
  },
  {
   "cell_type": "code",
   "execution_count": 17,
   "metadata": {},
   "outputs": [
    {
     "name": "stdout",
     "output_type": "stream",
     "text": [
      "235678\n",
      "237647\n"
     ]
    }
   ],
   "source": [
    "lbr.viewReservedBookItems()"
   ]
  },
  {
   "cell_type": "code",
   "execution_count": 18,
   "metadata": {},
   "outputs": [
    {
     "name": "stdout",
     "output_type": "stream",
     "text": [
      "Please enter isbn of the book for which you'd like to view issuer information for: 235678\n",
      "Issued by: Aakash\n",
      "Student ID: STD4321\n",
      "Issued for: 5 days\n"
     ]
    }
   ],
   "source": [
    "lbr.viewIssuerInfo()"
   ]
  },
  {
   "cell_type": "code",
   "execution_count": 19,
   "metadata": {},
   "outputs": [
    {
     "name": "stdout",
     "output_type": "stream",
     "text": [
      "Books Currently Issued By You: \n",
      "John Adams 235678\n",
      "Which book would you like to return? Enter isbn: 235678\n",
      "How many days has it been since you issued this book? 5\n"
     ]
    }
   ],
   "source": [
    "m1.returnBook()"
   ]
  },
  {
   "cell_type": "code",
   "execution_count": 20,
   "metadata": {},
   "outputs": [
    {
     "name": "stdout",
     "output_type": "stream",
     "text": [
      "Books Currently Issued By You: \n",
      "Every Breath 237647\n",
      "Which book would you like to return? Enter isbn: 237647\n",
      "How many days has it been since you issued this book? 7\n"
     ]
    }
   ],
   "source": [
    "m2.returnBook()"
   ]
  },
  {
   "cell_type": "code",
   "execution_count": 21,
   "metadata": {},
   "outputs": [
    {
     "name": "stdout",
     "output_type": "stream",
     "text": [
      "John Adams by David McCullough\n",
      "Isbn: 456789, Rack: A1B3\n",
      "Isbn: 235678, Rack: A1B4\n",
      "Every Breath by Nicholas Sparks\n",
      "Isbn: 923864, Rack: D3E1\n",
      "Isbn: 237647, Rack: D3E2\n",
      "Total book titles 2\n",
      "Total Books 4\n"
     ]
    }
   ],
   "source": [
    "m1.viewBooks()"
   ]
  },
  {
   "cell_type": "code",
   "execution_count": 22,
   "metadata": {},
   "outputs": [
    {
     "name": "stdout",
     "output_type": "stream",
     "text": [
      "For how many days would you like to issue this book? 10\n",
      "Book issued successfully!\n",
      "Take your copy 237647 from rack D3E2\n"
     ]
    }
   ],
   "source": [
    "m2.IssueBook(\"Every Breath\")"
   ]
  },
  {
   "cell_type": "code",
   "execution_count": 23,
   "metadata": {},
   "outputs": [
    {
     "name": "stdout",
     "output_type": "stream",
     "text": [
      "Welcome to Library Naveen!\n"
     ]
    }
   ],
   "source": [
    "lbr.addMember(\"Naveen\", \"Mumbai\", 22, \"736489762123\", \"STD6789\")"
   ]
  },
  {
   "cell_type": "code",
   "execution_count": 24,
   "metadata": {},
   "outputs": [
    {
     "name": "stdout",
     "output_type": "stream",
     "text": [
      "Aakash Mumbai STD4321\n",
      "Abhishek Mumbai STD8765\n",
      "Naveen Mumbai STD6789\n"
     ]
    }
   ],
   "source": [
    "lbr.viewMembers()"
   ]
  },
  {
   "cell_type": "code",
   "execution_count": 25,
   "metadata": {},
   "outputs": [
    {
     "name": "stdout",
     "output_type": "stream",
     "text": [
      "Naveen Mumbai STD6789\n"
     ]
    }
   ],
   "source": [
    "lbr.searchMember(\"Naveen\")"
   ]
  },
  {
   "cell_type": "code",
   "execution_count": 26,
   "metadata": {},
   "outputs": [
    {
     "name": "stdout",
     "output_type": "stream",
     "text": [
      "Aakash was successfully removed from the library!\n"
     ]
    }
   ],
   "source": [
    "lbr.removeMember(\"Aakash\")"
   ]
  }
 ],
 "metadata": {
  "kernelspec": {
   "display_name": "Python 3",
   "language": "python",
   "name": "python3"
  },
  "language_info": {
   "codemirror_mode": {
    "name": "ipython",
    "version": 3
   },
   "file_extension": ".py",
   "mimetype": "text/x-python",
   "name": "python",
   "nbconvert_exporter": "python",
   "pygments_lexer": "ipython3",
   "version": "3.7.6"
  }
 },
 "nbformat": 4,
 "nbformat_minor": 4
}
